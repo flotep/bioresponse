{
  "nbformat": 4,
  "nbformat_minor": 0,
  "metadata": {
    "colab": {
      "name": "bioresponse.ipynb",
      "provenance": [],
      "collapsed_sections": [],
      "authorship_tag": "ABX9TyMuKWIVRq5E7ikLWtdqYn9T",
      "include_colab_link": true
    },
    "kernelspec": {
      "name": "python3",
      "display_name": "Python 3"
    },
    "language_info": {
      "name": "python"
    }
  },
  "cells": [
    {
      "cell_type": "markdown",
      "metadata": {
        "id": "view-in-github",
        "colab_type": "text"
      },
      "source": [
        "<a href=\"https://colab.research.google.com/github/flotep/bioresponse/blob/branch_FT/bioresponse.ipynb\" target=\"_parent\"><img src=\"https://colab.research.google.com/assets/colab-badge.svg\" alt=\"Open In Colab\"/></a>"
      ]
    },
    {
      "cell_type": "code",
      "metadata": {
        "id": "znF7SU5VUYdb"
      },
      "source": [
        "#Download Kaggle Data in Google Colab.\n",
        "!pip install -q kaggle"
      ],
      "execution_count": null,
      "outputs": []
    },
    {
      "cell_type": "code",
      "metadata": {
        "colab": {
          "resources": {
            "http://localhost:8080/nbextensions/google.colab/files.js": {
              "data": "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",
              "ok": true,
              "headers": [
                [
                  "content-type",
                  "application/javascript"
                ]
              ],
              "status": 200,
              "status_text": "OK"
            }
          },
          "base_uri": "https://localhost:8080/",
          "height": 92
        },
        "id": "1ftO1wHwVYYl",
        "outputId": "d5f177e7-ebd0-41b7-f933-418fa2d462bd"
      },
      "source": [
        "from google.colab import files\n",
        "files.upload()#Choisir le kaggle.json téléchargé : Kaggle > Account > API > Create New API Token"
      ],
      "execution_count": null,
      "outputs": [
        {
          "output_type": "display_data",
          "data": {
            "text/html": [
              "\n",
              "     <input type=\"file\" id=\"files-41d523fb-53d4-4ff9-a715-5fbb9aa26bd9\" name=\"files[]\" multiple disabled\n",
              "        style=\"border:none\" />\n",
              "     <output id=\"result-41d523fb-53d4-4ff9-a715-5fbb9aa26bd9\">\n",
              "      Upload widget is only available when the cell has been executed in the\n",
              "      current browser session. Please rerun this cell to enable.\n",
              "      </output>\n",
              "      <script src=\"/nbextensions/google.colab/files.js\"></script> "
            ],
            "text/plain": [
              "<IPython.core.display.HTML object>"
            ]
          },
          "metadata": {}
        },
        {
          "output_type": "stream",
          "name": "stdout",
          "text": [
            "Saving kaggle.json to kaggle (2).json\n"
          ]
        },
        {
          "output_type": "execute_result",
          "data": {
            "text/plain": [
              "{'kaggle.json': b'{\"username\":\"floriantep\",\"key\":\"d3f7d9778ba4e98c535bbad82862ed33\"}'}"
            ]
          },
          "metadata": {},
          "execution_count": 2
        }
      ]
    },
    {
      "cell_type": "code",
      "metadata": {
        "colab": {
          "base_uri": "https://localhost:8080/"
        },
        "id": "MtvAGuW5V7Ha",
        "outputId": "25995200-26c2-4f45-88b3-9949b7bd60e2"
      },
      "source": [
        "#Création d'un dossier kaggle, copie de kaggle.json dedans.\n",
        "!mkdir -p ~/.kaggle\n",
        "!cp kaggle.json ~/.kaggle/\n",
        "!ls ~/.kaggle\n",
        "#Change les permissions du fichier json.\n",
        "!chmod 600 ~/.kaggle/kaggle.json"
      ],
      "execution_count": null,
      "outputs": [
        {
          "output_type": "stream",
          "name": "stdout",
          "text": [
            "kaggle.json\n"
          ]
        }
      ]
    },
    {
      "cell_type": "code",
      "metadata": {
        "colab": {
          "base_uri": "https://localhost:8080/"
        },
        "id": "2rnAzmbEWmbO",
        "outputId": "467c4cfa-8979-442d-bf02-0436d35c9cec"
      },
      "source": [
        "#!kaggle datasets list\n",
        "#Téléchargements des données du projet.\n",
        "!kaggle competitions download -c bioresponse"
      ],
      "execution_count": null,
      "outputs": [
        {
          "output_type": "stream",
          "name": "stdout",
          "text": [
            "Warning: Looks like you're using an outdated API Version, please consider updating (server 1.5.12 / client 1.5.4)\n",
            "svm_benchmark.csv: Skipping, found more recently modified local copy (use --force to force download)\n",
            "train.csv.zip: Skipping, found more recently modified local copy (use --force to force download)\n",
            "test.csv.zip: Skipping, found more recently modified local copy (use --force to force download)\n"
          ]
        }
      ]
    },
    {
      "cell_type": "code",
      "metadata": {
        "colab": {
          "base_uri": "https://localhost:8080/"
        },
        "id": "gyluk8B3XoA4",
        "outputId": "92a47303-a388-4ea9-bd5c-229162de79a6"
      },
      "source": [
        "#Création des dossiers train et test où on extrait les fichiers zip. \n",
        "!mkdir train \n",
        "!mkdir test\n",
        "!unzip -q train.csv.zip -d train\n",
        "!unzip -q test.csv.zip -d test\n",
        "!ls"
      ],
      "execution_count": null,
      "outputs": [
        {
          "output_type": "stream",
          "name": "stdout",
          "text": [
            "mkdir: cannot create directory ‘train’: File exists\n",
            "mkdir: cannot create directory ‘test’: File exists\n",
            "replace train/train.csv? [y]es, [n]o, [A]ll, [N]one, [r]ename: n\n",
            "replace test/test.csv? [y]es, [n]o, [A]ll, [N]one, [r]ename: n\n",
            "'kaggle (1).json'\t\t sample_data\t     train\n",
            "'kaggle (2).json'\t\t svm_benchmark.csv   train.csv.zip\n",
            " kaggle.json\t\t\t test\n",
            " my_first_model_show_shape.png\t test.csv.zip\n"
          ]
        }
      ]
    },
    {
      "cell_type": "code",
      "metadata": {
        "id": "foe2XRzuaXK1"
      },
      "source": [
        "import csv\n",
        "with open('train/train.csv', newline='') as csvfile:\n",
        "  spamreader = csv.reader(csvfile, delimiter=' ', quotechar='|')\n",
        "  for row in spamreader:\n",
        "    print(', '.join(row))"
      ],
      "execution_count": null,
      "outputs": []
    },
    {
      "cell_type": "code",
      "metadata": {
        "id": "LEWEwQ2bGZCJ"
      },
      "source": [
        "import numpy as np\n",
        "def read_data(file_path):\n",
        "    with open(file_path) as f:\n",
        "        f.readline()    # skip header\n",
        "        samples = []\n",
        "        for line in f:\n",
        "            line = line.split(\",\") #split the string into a list (the separator is the comma)\n",
        "            sample = [float(x) for x in line]\n",
        "            samples.append(sample)\n",
        "    return samples #list of list, each list contains all the descriptor of one molecule (structure and composition).\n",
        "\n",
        "def load(train_path, test_path, benchmark_path):\n",
        "    train = read_data(train_path)\n",
        "    benchmark = read_data(benchmark_path)\n",
        "    y_train = np.array([x[0] for x in train])#output train : the first colum of each molecules rows \"Activty\" -> 1 = elicit the biological response, 0 = no biological response\n",
        "    X_train = np.array([x[1:] for x in train])#input train : every column of the molecules rows, except the 1st column\n",
        "    X_test = np.array(read_data(test_path))#input test : already without the first column containing the biological response\n",
        "    y_test = np.array([x[1] for x in benchmark])#output expected for the test\n",
        "    return X_train, y_train, X_test, y_test"
      ],
      "execution_count": null,
      "outputs": []
    },
    {
      "cell_type": "code",
      "metadata": {
        "colab": {
          "base_uri": "https://localhost:8080/"
        },
        "id": "W8MF_irnHHkK",
        "outputId": "761d57a6-6740-4419-ae0b-fae5fa3007aa"
      },
      "source": [
        "train_path = 'train/train.csv' #3751 rows, 1777 columns\n",
        "test_path = 'test/test.csv' #2501 rows, 1776 columns\n",
        "benchmark_path = 'svm_benchmark.csv'#2501 rows, one value per row (between 0 and 1)\n",
        "\n",
        "X_train, y, X_test, y_test = load(train_path, test_path, benchmark_path)\n",
        "#X_train = tf.stack(X_train)\n",
        "#X_test = tf.stack(X_test)\n",
        "print(X_train.shape) #input train = 3751 molécules, 1776 colonnes (chaque colonne = 1 descripteur)\n",
        "print(X_train[0])\n",
        "print(y.shape) #expected output train = 3751 ligne (1 pour chaque molécule), 1 colonne : prédiction -> probabilité entre 0 et 1\n",
        "print(y[0])\n",
        "print(X_test.shape)\n",
        "print(X_test[0]) #test= 2501 molécules, 1776 colonnes (chaque colonne = 1 descripteur)\n",
        "print(y_test.shape)\n",
        "print(y_test[0])"
      ],
      "execution_count": null,
      "outputs": [
        {
          "output_type": "stream",
          "name": "stdout",
          "text": [
            "(3751, 1776)\n",
            "[0.         0.49700901 0.1        ... 0.         0.         0.        ]\n",
            "(3751,)\n",
            "1.0\n",
            "(2501, 1776)\n",
            "[0.36666667 0.61176451 0.05       ... 0.         1.         0.        ]\n",
            "(2501,)\n",
            "0.858294\n"
          ]
        }
      ]
    },
    {
      "cell_type": "code",
      "metadata": {
        "colab": {
          "base_uri": "https://localhost:8080/"
        },
        "id": "MrSglcN5h-YW",
        "outputId": "dc18c6c5-def6-4856-fb93-eb024c2c1297"
      },
      "source": [
        "import tensorflow as tf\n",
        "from tensorflow import keras\n",
        "from tensorflow.keras import layers\n",
        "\n",
        "#Input of the model\n",
        "input_shape = (1776,) #1776 descriptors\n",
        "inputs = keras.Input(shape=input_shape)\n",
        "print(inputs.shape)\n",
        "print(inputs.dtype)"
      ],
      "execution_count": null,
      "outputs": [
        {
          "output_type": "stream",
          "name": "stdout",
          "text": [
            "(None, 1776)\n",
            "<dtype: 'float32'>\n"
          ]
        }
      ]
    },
    {
      "cell_type": "code",
      "metadata": {
        "id": "KyowvVmtjUe3"
      },
      "source": [
        "#Model layers\n",
        "dense = layers.Dense(64, activation=\"relu\")\n",
        "hidden1 = dense(inputs)\n",
        "hidden2 = layers.Dense(64, activation=\"relu\")(hidden1)\n",
        "outputs = layers.Dense(1, activation =\"relu\")(hidden2) #shape = 1 -> One value between 0 and 1 (regression)"
      ],
      "execution_count": null,
      "outputs": []
    },
    {
      "cell_type": "code",
      "metadata": {
        "id": "J_380zAujqLw"
      },
      "source": [
        "model = keras.Model(inputs=inputs, outputs=outputs,name=\"bioresponse_model2\")"
      ],
      "execution_count": null,
      "outputs": []
    },
    {
      "cell_type": "code",
      "metadata": {
        "colab": {
          "base_uri": "https://localhost:8080/"
        },
        "id": "5relRsrpojUQ",
        "outputId": "430317f9-dde2-4a33-ba28-04fe8f6ec62e"
      },
      "source": [
        "model.summary()"
      ],
      "execution_count": null,
      "outputs": [
        {
          "output_type": "stream",
          "name": "stdout",
          "text": [
            "Model: \"bioresponse_model2\"\n",
            "_________________________________________________________________\n",
            "Layer (type)                 Output Shape              Param #   \n",
            "=================================================================\n",
            "input_7 (InputLayer)         [(None, 1776)]            0         \n",
            "_________________________________________________________________\n",
            "dense_18 (Dense)             (None, 64)                113728    \n",
            "_________________________________________________________________\n",
            "dense_19 (Dense)             (None, 64)                4160      \n",
            "_________________________________________________________________\n",
            "dense_20 (Dense)             (None, 1)                 65        \n",
            "=================================================================\n",
            "Total params: 117,953\n",
            "Trainable params: 117,953\n",
            "Non-trainable params: 0\n",
            "_________________________________________________________________\n"
          ]
        }
      ]
    },
    {
      "cell_type": "code",
      "metadata": {
        "colab": {
          "base_uri": "https://localhost:8080/",
          "height": 422
        },
        "id": "NrgpwFJgrt-C",
        "outputId": "90fb093c-7ca6-4b46-dd9e-f4ca02bd19df"
      },
      "source": [
        "keras.utils.plot_model(model, \"my_first_model_show_shape.png\", show_shapes=True)"
      ],
      "execution_count": null,
      "outputs": [
        {
          "output_type": "execute_result",
          "data": {
            "image/png": "[encoded data removed]",
            "text/plain": [
              "<IPython.core.display.Image object>"
            ]
          },
          "metadata": {},
          "execution_count": 85
        }
      ]
    },
    {
      "cell_type": "code",
      "metadata": {
        "id": "8AOtZb8g2rO6"
      },
      "source": [
        "#https://stackoverflow.com/questions/42665359/how-do-you-compute-accuracy-in-a-regression-model-after-rounding-predictions-to\n",
        "from keras import backend as K\n",
        "\n",
        "def soft_acc(y_true, y_pred):\n",
        "    return K.mean(K.equal(K.round(y_true), K.round(y_pred)))\n",
        "\n"
      ],
      "execution_count": null,
      "outputs": []
    },
    {
      "cell_type": "code",
      "metadata": {
        "id": "8MU9ZjJNlqzg"
      },
      "source": [
        "#Compile model\n",
        "model.compile(\n",
        "    #loss=keras.losses.MeanSquaredError(),\n",
        "    loss=tf.keras.losses.BinaryCrossentropy(from_logits=True), #Evaluate the model with the log loss\n",
        "    optimizer=keras.optimizers.SGD(),\n",
        "    metrics=[soft_acc] #Compute accuracy for a regression model\n",
        "    #metrics=[\"accuracy\"]\n",
        ")"
      ],
      "execution_count": null,
      "outputs": []
    },
    {
      "cell_type": "code",
      "metadata": {
        "colab": {
          "base_uri": "https://localhost:8080/"
        },
        "id": "asQsYSB4m_kU",
        "outputId": "2e75ec42-ef86-4115-d264-78cee8782dc4"
      },
      "source": [
        "histori=model.fit(X_train,y, batch_size=64, epochs= 15, validation_split=0.1)"
      ],
      "execution_count": null,
      "outputs": [
        {
          "output_type": "stream",
          "name": "stdout",
          "text": [
            "Epoch 1/15\n",
            "53/53 [==============================] - 1s 5ms/step - loss: 0.6798 - soft_acc: 0.4813 - val_loss: 0.6806 - val_soft_acc: 0.5045\n",
            "Epoch 2/15\n",
            "53/53 [==============================] - 0s 3ms/step - loss: 0.6659 - soft_acc: 0.5394 - val_loss: 0.6671 - val_soft_acc: 0.5435\n",
            "Epoch 3/15\n",
            "53/53 [==============================] - 0s 4ms/step - loss: 0.6530 - soft_acc: 0.5916 - val_loss: 0.6558 - val_soft_acc: 0.5889\n",
            "Epoch 4/15\n",
            "53/53 [==============================] - 0s 3ms/step - loss: 0.6409 - soft_acc: 0.6340 - val_loss: 0.6431 - val_soft_acc: 0.6380\n",
            "Epoch 5/15\n",
            "53/53 [==============================] - 0s 3ms/step - loss: 0.6295 - soft_acc: 0.6594 - val_loss: 0.6324 - val_soft_acc: 0.6641\n",
            "Epoch 6/15\n",
            "53/53 [==============================] - 0s 3ms/step - loss: 0.6199 - soft_acc: 0.6765 - val_loss: 0.6244 - val_soft_acc: 0.7102\n",
            "Epoch 7/15\n",
            "53/53 [==============================] - 0s 3ms/step - loss: 0.6114 - soft_acc: 0.6894 - val_loss: 0.6179 - val_soft_acc: 0.7050\n",
            "Epoch 8/15\n",
            "53/53 [==============================] - 0s 3ms/step - loss: 0.6044 - soft_acc: 0.6898 - val_loss: 0.6124 - val_soft_acc: 0.7076\n",
            "Epoch 9/15\n",
            "53/53 [==============================] - 0s 3ms/step - loss: 0.5982 - soft_acc: 0.6786 - val_loss: 0.6085 - val_soft_acc: 0.6894\n",
            "Epoch 10/15\n",
            "53/53 [==============================] - 0s 3ms/step - loss: 0.5927 - soft_acc: 0.6722 - val_loss: 0.6043 - val_soft_acc: 0.6842\n",
            "Epoch 11/15\n",
            "53/53 [==============================] - 0s 3ms/step - loss: 0.5879 - soft_acc: 0.6667 - val_loss: 0.6017 - val_soft_acc: 0.6838\n",
            "Epoch 12/15\n",
            "53/53 [==============================] - 0s 3ms/step - loss: 0.5834 - soft_acc: 0.6510 - val_loss: 0.5998 - val_soft_acc: 0.6596\n",
            "Epoch 13/15\n",
            "53/53 [==============================] - 0s 3ms/step - loss: 0.5790 - soft_acc: 0.6501 - val_loss: 0.5967 - val_soft_acc: 0.6496\n",
            "Epoch 14/15\n",
            "53/53 [==============================] - 0s 3ms/step - loss: 0.5757 - soft_acc: 0.6462 - val_loss: 0.5962 - val_soft_acc: 0.6324\n",
            "Epoch 15/15\n",
            "53/53 [==============================] - 0s 3ms/step - loss: 0.5724 - soft_acc: 0.6441 - val_loss: 0.5938 - val_soft_acc: 0.6269\n"
          ]
        }
      ]
    },
    {
      "cell_type": "code",
      "metadata": {
        "colab": {
          "base_uri": "https://localhost:8080/",
          "height": 295
        },
        "id": "_4wEjtAz0sYF",
        "outputId": "6c214d26-f5b9-4450-8306-c27c6a93b6e5"
      },
      "source": [
        "import matplotlib.pyplot as plt\n",
        "\n",
        "#Summarize history for loss\n",
        "plt.plot(histori.history['loss'])\n",
        "plt.plot(histori.history['val_loss'])\n",
        "plt.title ('model loss')\n",
        "plt.ylabel ('loss')\n",
        "plt.xlabel ('epoch')\n",
        "plt.legend (['train', 'val'], loc = 'upper left')\n",
        "plt.show()"
      ],
      "execution_count": null,
      "outputs": [
        {
          "output_type": "display_data",
          "data": {
            "image/png": "[encoded data removed]",
            "text/plain": [
              "<Figure size 432x288 with 1 Axes>"
            ]
          },
          "metadata": {
            "needs_background": "light"
          }
        }
      ]
    },
    {
      "cell_type": "code",
      "metadata": {
        "colab": {
          "base_uri": "https://localhost:8080/"
        },
        "id": "k_eJu19-yxMV",
        "outputId": "50de00eb-86cc-4e53-c0a9-310b65e5cd98"
      },
      "source": [
        "#Test the model\n",
        "_, acc = model.evaluate(X_test, y_test, verbose=1)\n",
        "print(acc)"
      ],
      "execution_count": null,
      "outputs": [
        {
          "output_type": "stream",
          "name": "stdout",
          "text": [
            "79/79 [==============================] - 0s 1ms/step - loss: 0.6012 - soft_acc: 0.7360\n",
            "0.7359968423843384\n"
          ]
        }
      ]
    }
  ]
}